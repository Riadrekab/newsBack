{
 "nbformat": 4,
 "nbformat_minor": 0,
 "metadata": {
  "colab": {
   "provenance": []
  },
  "kernelspec": {
   "name": "python3",
   "language": "python",
   "display_name": "Python 3 (ipykernel)"
  },
  "language_info": {
   "name": "python"
  }
 },
 "cells": [
  {
   "cell_type": "code",
   "execution_count": 24,
   "metadata": {
    "id": "3XvZ3HXLLFUn",
    "ExecuteTime": {
     "start_time": "2023-05-10T01:03:45.301173Z",
     "end_time": "2023-05-10T01:03:45.348483Z"
    }
   },
   "outputs": [],
   "source": [
    "import pandas as pd\n",
    "import requests\n",
    "from keys import API_KEY # my api key is stored in a separate file"
   ]
  },
  {
   "cell_type": "code",
   "execution_count": 103,
   "outputs": [],
   "source": [
    "# get all articles about music from the last 30 days\n",
    "url = ('https://newsapi.org/v2/everything?'\n",
    "       'q=music&'\n",
    "       'from=2023-04-09&'\n",
    "       'sortBy=popularity&'\n",
    "       'apiKey=' + API_KEY)\n",
    "response = requests.get(url)\n",
    "json_response = response.json()\n",
    "articles = json_response['articles']"
   ],
   "metadata": {
    "collapsed": false,
    "ExecuteTime": {
     "start_time": "2023-05-10T01:06:03.994733Z",
     "end_time": "2023-05-10T01:06:04.608917Z"
    }
   }
  },
  {
   "cell_type": "code",
   "execution_count": 104,
   "outputs": [],
   "source": [
    "# convert to dataframe\n",
    "df = pd.DataFrame(articles)\n",
    "df.head()"
   ],
   "metadata": {
    "collapsed": false,
    "ExecuteTime": {
     "start_time": "2023-05-10T17:49:20.662685Z",
     "end_time": "2023-05-10T17:49:20.711970Z"
    }
   }
  },
  {
   "cell_type": "code",
   "execution_count": 106,
   "outputs": [],
   "source": [
    "# convert source column to just the name of the source\n",
    "if 'source' in df.columns:\n",
    "    df['source'] = df['source'].apply(lambda x: x['name'])\n",
    "df.head()"
   ],
   "metadata": {
    "collapsed": false,
    "ExecuteTime": {
     "start_time": "2023-05-10T01:06:41.369345Z",
     "end_time": "2023-05-10T01:06:41.385315Z"
    }
   }
  },
  {
   "cell_type": "code",
   "execution_count": 113,
   "outputs": [],
   "source": [
    "# clean the title column\n",
    "import re\n",
    "\n",
    "def clean(title):\n",
    "    return re.sub(r'[^a-zA-Z0-9 ]', '', title)\n",
    "\n",
    "df['title'] = df['title'].apply(clean)\n",
    "df.head()"
   ],
   "metadata": {
    "collapsed": false,
    "ExecuteTime": {
     "start_time": "2023-05-10T17:50:01.184888Z",
     "end_time": "2023-05-10T17:50:01.204709Z"
    }
   }
  },
  {
   "cell_type": "code",
   "execution_count": 114,
   "outputs": [],
   "source": [
    "from sklearn.feature_extraction.text import TfidfVectorizer\n",
    "\n",
    "# create tfidf vectorized matrix\n",
    "vectMatrix = TfidfVectorizer(ngram_range=(1, 2))\n",
    "tfidf = vectMatrix.fit_transform(df['title'])"
   ],
   "metadata": {
    "collapsed": false,
    "ExecuteTime": {
     "start_time": "2023-05-10T17:50:03.385412Z",
     "end_time": "2023-05-10T17:50:03.414903Z"
    }
   }
  },
  {
   "cell_type": "code",
   "execution_count": 117,
   "outputs": [],
   "source": [
    "from sklearn.metrics.pairwise import cosine_similarity\n",
    "import numpy as np\n",
    "\n",
    "def search(title):\n",
    "    title = clean(title)\n",
    "    title_vect = vectMatrix.transform([title])\n",
    "    similarity = cosine_similarity(title_vect, tfidf).flatten()\n",
    "    top5 = np.argsort(similarity)[-5:][::-1]\n",
    "    results = df.iloc[top5]\n",
    "    return results"
   ],
   "metadata": {
    "collapsed": false,
    "ExecuteTime": {
     "start_time": "2023-05-10T17:50:17.559510Z",
     "end_time": "2023-05-10T17:50:17.573576Z"
    }
   }
  },
  {
   "cell_type": "code",
   "execution_count": 116,
   "outputs": [],
   "source": [
    "# test it out and display results\n",
    "import ipywidgets as widgets\n",
    "from IPython.display import display\n",
    "\n",
    "article_input = widgets.Text(\n",
    "    value='Youtube music',\n",
    "    description='Article:',\n",
    "    disabled=False\n",
    ")\n",
    "\n",
    "article_list = widgets.Output()\n",
    "\n",
    "def on_type(change):\n",
    "    article_list.clear_output()\n",
    "    with article_list:\n",
    "        title = change['new']\n",
    "        if len(title) > 5:\n",
    "            display(search(title))\n",
    "\n",
    "article_input.observe(on_type, names='value')\n",
    "\n",
    "display(article_input, article_list)"
   ],
   "metadata": {
    "collapsed": false,
    "ExecuteTime": {
     "start_time": "2023-05-10T17:50:13.520386Z",
     "end_time": "2023-05-10T17:50:13.560436Z"
    }
   }
  },
  {
   "cell_type": "code",
   "execution_count": 111,
   "outputs": [],
   "source": [
    "# trying the second api\n",
    "import eventregistry as er\n",
    "evr = er.EventRegistry(apiKey='f931c431-041e-4b72-8619-a16e97fa86d0')\n",
    "q = er.QueryArticlesIter(\n",
    "    keywords='politics',\n",
    "    keywordsLoc='title',\n",
    "    ignoreKeywords='coronavirus'\n",
    ")\n",
    "articles = []\n",
    "for article in q.execQuery(evr, sortBy='date', maxItems=100):\n",
    "    articles.append(article)"
   ],
   "metadata": {
    "collapsed": false,
    "ExecuteTime": {
     "start_time": "2023-05-10T17:49:43.608859Z",
     "end_time": "2023-05-10T17:49:44.847083Z"
    }
   }
  },
  {
   "cell_type": "code",
   "execution_count": 112,
   "outputs": [],
   "source": [
    "articles"
   ],
   "metadata": {
    "collapsed": false,
    "ExecuteTime": {
     "start_time": "2023-05-10T17:49:49.239683Z",
     "end_time": "2023-05-10T17:49:49.334683Z"
    }
   }
  },
  {
   "cell_type": "code",
   "execution_count": 101,
   "outputs": [
    {
     "data": {
      "text/plain": "          uri lang  isDuplicate        date      time              dateTime  \\\n0  7536641921  eng         True  2023-05-10  01:34:00  2023-05-10T01:34:00Z   \n1  7536605774  eng        False  2023-05-10  01:34:00  2023-05-10T01:34:00Z   \n2  7536594447  eng        False  2023-05-10  01:15:00  2023-05-10T01:15:00Z   \n3  7535165867  eng        False  2023-05-10  01:12:00  2023-05-10T01:12:00Z   \n4  7536617569  eng        False  2023-05-10  01:06:00  2023-05-10T01:06:00Z   \n\n            dateTimePub dataType  sim  \\\n0  2023-05-10T00:01:00Z     news  0.0   \n1  2023-05-09T23:13:00Z     news  0.0   \n2  2023-05-09T23:05:00Z     news  0.0   \n3  2023-05-09T01:40:00Z     news  0.0   \n4  2023-05-09T23:38:00Z     news  0.0   \n\n                                                 url  \\\n0  https://www.devdiscourse.com/article/politics/...   \n1  https://100percentfedup.com/northwestern-unive...   \n2  https://www.haaretz.com/opinion/editorial/2023...   \n3  https://www.chinadaily.com.cn/a/202305/09/WS64...   \n4  https://nampa.org/index.php?model=categories&f...   \n\n                                               title  \\\n0  Treasury debt advisers warn of 'seismic' impac...   \n1  Northwestern University Student Government Pul...   \n2  Editorial | Gaza assassinations were all about...   \n3        US politics no more normal: Washington Post   \n4    US-politics-economy-debt-budget-Biden-diplomacy   \n\n                                                body  \\\n0  Wall Street executives who have advised the U....   \n1  Northwestern University's student government h...   \n2  A week ago, administrative detainee Khader Adn...   \n3  NEW YORK -- There's a powerful case that at th...   \n4  URGENT Biden says may call off Asia trip if no...   \n\n                                              source  \\\n0  {'uri': 'devdiscourse.com', 'dataType': 'news'...   \n1  {'uri': '100percentfedup.com', 'dataType': 'ne...   \n2  {'uri': 'haaretz.com', 'dataType': 'news', 'ti...   \n3  {'uri': 'chinadaily.com.cn', 'dataType': 'news...   \n4  {'uri': 'nampa.org', 'dataType': 'news', 'titl...   \n\n                                             authors  \\\n0                                                 []   \n1  [{'uri': 'amber_crawford@100percentfedup.com',...   \n2  [{'uri': 'haaretz_editorial@haaretz.com', 'nam...   \n3                                                 []   \n4                                                 []   \n\n                                               image eventUri  sentiment  \\\n0  https://www.devdiscourse.com/remote.axd?https:...     None  -0.003922   \n1  https://100percentfedup.com/wp-content/uploads...     None  -0.294118   \n2  https://img.haarets.co.il/bs/00000188-006b-dc7...     None  -0.466667   \n3  http://img2.chinadaily.com.cn/images/202305/09...     None  -0.200000   \n4                                               None     None  -0.145098   \n\n         wgt  relevance  \n0  421378440          1  \n1  421378440          1  \n2  421377300          1  \n3  421377120          1  \n4  421376760          1  ",
      "text/html": "<div>\n<style scoped>\n    .dataframe tbody tr th:only-of-type {\n        vertical-align: middle;\n    }\n\n    .dataframe tbody tr th {\n        vertical-align: top;\n    }\n\n    .dataframe thead th {\n        text-align: right;\n    }\n</style>\n<table border=\"1\" class=\"dataframe\">\n  <thead>\n    <tr style=\"text-align: right;\">\n      <th></th>\n      <th>uri</th>\n      <th>lang</th>\n      <th>isDuplicate</th>\n      <th>date</th>\n      <th>time</th>\n      <th>dateTime</th>\n      <th>dateTimePub</th>\n      <th>dataType</th>\n      <th>sim</th>\n      <th>url</th>\n      <th>title</th>\n      <th>body</th>\n      <th>source</th>\n      <th>authors</th>\n      <th>image</th>\n      <th>eventUri</th>\n      <th>sentiment</th>\n      <th>wgt</th>\n      <th>relevance</th>\n    </tr>\n  </thead>\n  <tbody>\n    <tr>\n      <th>0</th>\n      <td>7536641921</td>\n      <td>eng</td>\n      <td>True</td>\n      <td>2023-05-10</td>\n      <td>01:34:00</td>\n      <td>2023-05-10T01:34:00Z</td>\n      <td>2023-05-10T00:01:00Z</td>\n      <td>news</td>\n      <td>0.0</td>\n      <td>https://www.devdiscourse.com/article/politics/...</td>\n      <td>Treasury debt advisers warn of 'seismic' impac...</td>\n      <td>Wall Street executives who have advised the U....</td>\n      <td>{'uri': 'devdiscourse.com', 'dataType': 'news'...</td>\n      <td>[]</td>\n      <td>https://www.devdiscourse.com/remote.axd?https:...</td>\n      <td>None</td>\n      <td>-0.003922</td>\n      <td>421378440</td>\n      <td>1</td>\n    </tr>\n    <tr>\n      <th>1</th>\n      <td>7536605774</td>\n      <td>eng</td>\n      <td>False</td>\n      <td>2023-05-10</td>\n      <td>01:34:00</td>\n      <td>2023-05-10T01:34:00Z</td>\n      <td>2023-05-09T23:13:00Z</td>\n      <td>news</td>\n      <td>0.0</td>\n      <td>https://100percentfedup.com/northwestern-unive...</td>\n      <td>Northwestern University Student Government Pul...</td>\n      <td>Northwestern University's student government h...</td>\n      <td>{'uri': '100percentfedup.com', 'dataType': 'ne...</td>\n      <td>[{'uri': 'amber_crawford@100percentfedup.com',...</td>\n      <td>https://100percentfedup.com/wp-content/uploads...</td>\n      <td>None</td>\n      <td>-0.294118</td>\n      <td>421378440</td>\n      <td>1</td>\n    </tr>\n    <tr>\n      <th>2</th>\n      <td>7536594447</td>\n      <td>eng</td>\n      <td>False</td>\n      <td>2023-05-10</td>\n      <td>01:15:00</td>\n      <td>2023-05-10T01:15:00Z</td>\n      <td>2023-05-09T23:05:00Z</td>\n      <td>news</td>\n      <td>0.0</td>\n      <td>https://www.haaretz.com/opinion/editorial/2023...</td>\n      <td>Editorial | Gaza assassinations were all about...</td>\n      <td>A week ago, administrative detainee Khader Adn...</td>\n      <td>{'uri': 'haaretz.com', 'dataType': 'news', 'ti...</td>\n      <td>[{'uri': 'haaretz_editorial@haaretz.com', 'nam...</td>\n      <td>https://img.haarets.co.il/bs/00000188-006b-dc7...</td>\n      <td>None</td>\n      <td>-0.466667</td>\n      <td>421377300</td>\n      <td>1</td>\n    </tr>\n    <tr>\n      <th>3</th>\n      <td>7535165867</td>\n      <td>eng</td>\n      <td>False</td>\n      <td>2023-05-10</td>\n      <td>01:12:00</td>\n      <td>2023-05-10T01:12:00Z</td>\n      <td>2023-05-09T01:40:00Z</td>\n      <td>news</td>\n      <td>0.0</td>\n      <td>https://www.chinadaily.com.cn/a/202305/09/WS64...</td>\n      <td>US politics no more normal: Washington Post</td>\n      <td>NEW YORK -- There's a powerful case that at th...</td>\n      <td>{'uri': 'chinadaily.com.cn', 'dataType': 'news...</td>\n      <td>[]</td>\n      <td>http://img2.chinadaily.com.cn/images/202305/09...</td>\n      <td>None</td>\n      <td>-0.200000</td>\n      <td>421377120</td>\n      <td>1</td>\n    </tr>\n    <tr>\n      <th>4</th>\n      <td>7536617569</td>\n      <td>eng</td>\n      <td>False</td>\n      <td>2023-05-10</td>\n      <td>01:06:00</td>\n      <td>2023-05-10T01:06:00Z</td>\n      <td>2023-05-09T23:38:00Z</td>\n      <td>news</td>\n      <td>0.0</td>\n      <td>https://nampa.org/index.php?model=categories&amp;f...</td>\n      <td>US-politics-economy-debt-budget-Biden-diplomacy</td>\n      <td>URGENT Biden says may call off Asia trip if no...</td>\n      <td>{'uri': 'nampa.org', 'dataType': 'news', 'titl...</td>\n      <td>[]</td>\n      <td>None</td>\n      <td>None</td>\n      <td>-0.145098</td>\n      <td>421376760</td>\n      <td>1</td>\n    </tr>\n  </tbody>\n</table>\n</div>"
     },
     "execution_count": 101,
     "metadata": {},
     "output_type": "execute_result"
    }
   ],
   "source": [
    "# convert to dataframe\n",
    "df = pd.DataFrame(articles)\n",
    "df.head()"
   ],
   "metadata": {
    "collapsed": false,
    "ExecuteTime": {
     "start_time": "2023-05-10T03:47:24.720709Z",
     "end_time": "2023-05-10T03:47:24.767983Z"
    }
   }
  },
  {
   "cell_type": "code",
   "execution_count": 102,
   "outputs": [
    {
     "data": {
      "text/plain": "          uri lang  isDuplicate        date      time              dateTime  \\\n0  7536641921  eng         True  2023-05-10  01:34:00  2023-05-10T01:34:00Z   \n1  7536605774  eng        False  2023-05-10  01:34:00  2023-05-10T01:34:00Z   \n2  7536594447  eng        False  2023-05-10  01:15:00  2023-05-10T01:15:00Z   \n3  7535165867  eng        False  2023-05-10  01:12:00  2023-05-10T01:12:00Z   \n4  7536617569  eng        False  2023-05-10  01:06:00  2023-05-10T01:06:00Z   \n\n            dateTimePub dataType  sim  \\\n0  2023-05-10T00:01:00Z     news  0.0   \n1  2023-05-09T23:13:00Z     news  0.0   \n2  2023-05-09T23:05:00Z     news  0.0   \n3  2023-05-09T01:40:00Z     news  0.0   \n4  2023-05-09T23:38:00Z     news  0.0   \n\n                                                 url  \\\n0  https://www.devdiscourse.com/article/politics/...   \n1  https://100percentfedup.com/northwestern-unive...   \n2  https://www.haaretz.com/opinion/editorial/2023...   \n3  https://www.chinadaily.com.cn/a/202305/09/WS64...   \n4  https://nampa.org/index.php?model=categories&f...   \n\n                                               title  \\\n0  Treasury debt advisers warn of seismic impact ...   \n1  Northwestern University Student Government Pul...   \n2  Editorial  Gaza assassinations were all about ...   \n3         US politics no more normal Washington Post   \n4          USpoliticseconomydebtbudgetBidendiplomacy   \n\n                                                body               source  \\\n0  Wall Street executives who have advised the U....     devdiscourse.com   \n1  Northwestern University's student government h...  100percentfedup.com   \n2  A week ago, administrative detainee Khader Adn...          haaretz.com   \n3  NEW YORK -- There's a powerful case that at th...    chinadaily.com.cn   \n4  URGENT Biden says may call off Asia trip if no...            nampa.org   \n\n                                               image eventUri  sentiment  \\\n0  https://www.devdiscourse.com/remote.axd?https:...     None  -0.003922   \n1  https://100percentfedup.com/wp-content/uploads...     None  -0.294118   \n2  https://img.haarets.co.il/bs/00000188-006b-dc7...     None  -0.466667   \n3  http://img2.chinadaily.com.cn/images/202305/09...     None  -0.200000   \n4                                               None     None  -0.145098   \n\n         wgt  relevance             author                         author_link  \n0  421378440          1               None                                None  \n1  421378440          1     Amber Crawford  amber_crawford@100percentfedup.com  \n2  421377300          1  Haaretz Editorial       haaretz_editorial@haaretz.com  \n3  421377120          1               None                                None  \n4  421376760          1               None                                None  ",
      "text/html": "<div>\n<style scoped>\n    .dataframe tbody tr th:only-of-type {\n        vertical-align: middle;\n    }\n\n    .dataframe tbody tr th {\n        vertical-align: top;\n    }\n\n    .dataframe thead th {\n        text-align: right;\n    }\n</style>\n<table border=\"1\" class=\"dataframe\">\n  <thead>\n    <tr style=\"text-align: right;\">\n      <th></th>\n      <th>uri</th>\n      <th>lang</th>\n      <th>isDuplicate</th>\n      <th>date</th>\n      <th>time</th>\n      <th>dateTime</th>\n      <th>dateTimePub</th>\n      <th>dataType</th>\n      <th>sim</th>\n      <th>url</th>\n      <th>title</th>\n      <th>body</th>\n      <th>source</th>\n      <th>image</th>\n      <th>eventUri</th>\n      <th>sentiment</th>\n      <th>wgt</th>\n      <th>relevance</th>\n      <th>author</th>\n      <th>author_link</th>\n    </tr>\n  </thead>\n  <tbody>\n    <tr>\n      <th>0</th>\n      <td>7536641921</td>\n      <td>eng</td>\n      <td>True</td>\n      <td>2023-05-10</td>\n      <td>01:34:00</td>\n      <td>2023-05-10T01:34:00Z</td>\n      <td>2023-05-10T00:01:00Z</td>\n      <td>news</td>\n      <td>0.0</td>\n      <td>https://www.devdiscourse.com/article/politics/...</td>\n      <td>Treasury debt advisers warn of seismic impact ...</td>\n      <td>Wall Street executives who have advised the U....</td>\n      <td>devdiscourse.com</td>\n      <td>https://www.devdiscourse.com/remote.axd?https:...</td>\n      <td>None</td>\n      <td>-0.003922</td>\n      <td>421378440</td>\n      <td>1</td>\n      <td>None</td>\n      <td>None</td>\n    </tr>\n    <tr>\n      <th>1</th>\n      <td>7536605774</td>\n      <td>eng</td>\n      <td>False</td>\n      <td>2023-05-10</td>\n      <td>01:34:00</td>\n      <td>2023-05-10T01:34:00Z</td>\n      <td>2023-05-09T23:13:00Z</td>\n      <td>news</td>\n      <td>0.0</td>\n      <td>https://100percentfedup.com/northwestern-unive...</td>\n      <td>Northwestern University Student Government Pul...</td>\n      <td>Northwestern University's student government h...</td>\n      <td>100percentfedup.com</td>\n      <td>https://100percentfedup.com/wp-content/uploads...</td>\n      <td>None</td>\n      <td>-0.294118</td>\n      <td>421378440</td>\n      <td>1</td>\n      <td>Amber Crawford</td>\n      <td>amber_crawford@100percentfedup.com</td>\n    </tr>\n    <tr>\n      <th>2</th>\n      <td>7536594447</td>\n      <td>eng</td>\n      <td>False</td>\n      <td>2023-05-10</td>\n      <td>01:15:00</td>\n      <td>2023-05-10T01:15:00Z</td>\n      <td>2023-05-09T23:05:00Z</td>\n      <td>news</td>\n      <td>0.0</td>\n      <td>https://www.haaretz.com/opinion/editorial/2023...</td>\n      <td>Editorial  Gaza assassinations were all about ...</td>\n      <td>A week ago, administrative detainee Khader Adn...</td>\n      <td>haaretz.com</td>\n      <td>https://img.haarets.co.il/bs/00000188-006b-dc7...</td>\n      <td>None</td>\n      <td>-0.466667</td>\n      <td>421377300</td>\n      <td>1</td>\n      <td>Haaretz Editorial</td>\n      <td>haaretz_editorial@haaretz.com</td>\n    </tr>\n    <tr>\n      <th>3</th>\n      <td>7535165867</td>\n      <td>eng</td>\n      <td>False</td>\n      <td>2023-05-10</td>\n      <td>01:12:00</td>\n      <td>2023-05-10T01:12:00Z</td>\n      <td>2023-05-09T01:40:00Z</td>\n      <td>news</td>\n      <td>0.0</td>\n      <td>https://www.chinadaily.com.cn/a/202305/09/WS64...</td>\n      <td>US politics no more normal Washington Post</td>\n      <td>NEW YORK -- There's a powerful case that at th...</td>\n      <td>chinadaily.com.cn</td>\n      <td>http://img2.chinadaily.com.cn/images/202305/09...</td>\n      <td>None</td>\n      <td>-0.200000</td>\n      <td>421377120</td>\n      <td>1</td>\n      <td>None</td>\n      <td>None</td>\n    </tr>\n    <tr>\n      <th>4</th>\n      <td>7536617569</td>\n      <td>eng</td>\n      <td>False</td>\n      <td>2023-05-10</td>\n      <td>01:06:00</td>\n      <td>2023-05-10T01:06:00Z</td>\n      <td>2023-05-09T23:38:00Z</td>\n      <td>news</td>\n      <td>0.0</td>\n      <td>https://nampa.org/index.php?model=categories&amp;f...</td>\n      <td>USpoliticseconomydebtbudgetBidendiplomacy</td>\n      <td>URGENT Biden says may call off Asia trip if no...</td>\n      <td>nampa.org</td>\n      <td>None</td>\n      <td>None</td>\n      <td>-0.145098</td>\n      <td>421376760</td>\n      <td>1</td>\n      <td>None</td>\n      <td>None</td>\n    </tr>\n  </tbody>\n</table>\n</div>"
     },
     "execution_count": 102,
     "metadata": {},
     "output_type": "execute_result"
    }
   ],
   "source": [
    "if 'source' in df.columns:\n",
    "    df['source'] = df['source'].apply(lambda x: x['uri'])\n",
    "\n",
    "\n",
    "if 'authors' in df.columns:\n",
    "    df['author'] = df['authors'].apply(lambda x: x[0]['name'] if len(x) == 1 else None)\n",
    "    df['author_link'] = df['authors'].apply(lambda x: x[0]['uri'] if len(x) == 1 else None)\n",
    "    df.drop(columns=['authors'], inplace=True)\n",
    "# clean the title column\n",
    "df['title'] = df['title'].apply(clean)\n",
    "df.head()"
   ],
   "metadata": {
    "collapsed": false,
    "ExecuteTime": {
     "start_time": "2023-05-10T03:47:27.490863Z",
     "end_time": "2023-05-10T03:47:27.511795Z"
    }
   }
  },
  {
   "cell_type": "code",
   "execution_count": 100,
   "outputs": [
    {
     "data": {
      "text/plain": "1"
     },
     "execution_count": 100,
     "metadata": {},
     "output_type": "execute_result"
    }
   ],
   "source": [
    "#"
   ],
   "metadata": {
    "collapsed": false,
    "ExecuteTime": {
     "start_time": "2023-05-10T03:44:46.781677Z",
     "end_time": "2023-05-10T03:44:46.784774Z"
    }
   }
  },
  {
   "cell_type": "code",
   "execution_count": null,
   "outputs": [],
   "source": [],
   "metadata": {
    "collapsed": false
   }
  }
 ]
}
