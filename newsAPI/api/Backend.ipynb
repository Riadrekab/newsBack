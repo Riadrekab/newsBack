{
 "nbformat": 4,
 "nbformat_minor": 0,
 "metadata": {
  "colab": {
   "provenance": []
  },
  "kernelspec": {
   "name": "python3",
   "language": "python",
   "display_name": "Python 3 (ipykernel)"
  },
  "language_info": {
   "name": "python"
  }
 },
 "cells": [
  {
   "cell_type": "code",
   "execution_count": 24,
   "metadata": {
    "id": "3XvZ3HXLLFUn",
    "ExecuteTime": {
     "start_time": "2023-05-10T01:03:45.301173Z",
     "end_time": "2023-05-10T01:03:45.348483Z"
    }
   },
   "outputs": [],
   "source": [
    "import pandas as pd\n",
    "import requests\n",
    "from keys import API_KEY # my api key is stored in a separate file"
   ]
  },
  {
   "cell_type": "code",
   "execution_count": 25,
   "outputs": [],
   "source": [
    "# get all articles about music from the last 30 days\n",
    "url = ('https://newsapi.org/v2/everything?'\n",
    "       'q=music&'\n",
    "       'from=2023-04-09&'\n",
    "       'sortBy=popularity&'\n",
    "       'apiKey=' + API_KEY)\n",
    "response = requests.get(url)\n",
    "json_response = response.json()\n",
    "articles = json_response['articles']"
   ],
   "metadata": {
    "collapsed": false,
    "ExecuteTime": {
     "start_time": "2023-05-10T01:06:03.994733Z",
     "end_time": "2023-05-10T01:06:04.608917Z"
    }
   }
  },
  {
   "cell_type": "code",
   "execution_count": 26,
   "outputs": [
    {
     "data": {
      "text/plain": "                                   source          author  \\\n0  {'id': 'engadget', 'name': 'Engadget'}  Igor Bonifacic   \n1  {'id': 'engadget', 'name': 'Engadget'}  Igor Bonifacic   \n2  {'id': 'engadget', 'name': 'Engadget'}  Igor Bonifacic   \n3  {'id': 'engadget', 'name': 'Engadget'}       Kris Holt   \n4  {'id': 'engadget', 'name': 'Engadget'}       Kris Holt   \n\n                                               title  \\\n0  YouTube Music contractors vote overwhelmingly ...   \n1  Copyright in spotlight after streaming platfor...   \n2  Lofi Girl is back and she made a synthwave friend   \n3  The Mario theme joins your old tweets in the L...   \n4        Spotify will shut down 'Heardle' on May 5th   \n\n                                         description  \\\n0  On Wednesday, a group of contractors at YouTub...   \n1  If you spent almost any time on the internet t...   \n2  After a day-long absence, Lofi Girl has return...   \n3  The Library of Congress\\r\\n has announced the ...   \n4  Spotify has some disappointing news for Heardl...   \n\n                                                 url  \\\n0  https://www.engadget.com/youtube-music-contrac...   \n1  https://www.engadget.com/copyright-in-spotligh...   \n2  https://www.engadget.com/lofi-girl-is-back-and...   \n3  https://www.engadget.com/the-mario-theme-joins...   \n4  https://www.engadget.com/spotify-will-shut-dow...   \n\n                                          urlToImage           publishedAt  \\\n0  https://s.yimg.com/uu/api/res/1.2/sBsdBENx0Xc8...  2023-04-26T21:38:44Z   \n1  https://s.yimg.com/uu/api/res/1.2/roneRM7jZ5Gc...  2023-04-19T18:35:13Z   \n2  https://s.yimg.com/uu/api/res/1.2/SDw4A9suayQJ...  2023-04-11T18:29:28Z   \n3  https://s.yimg.com/uu/api/res/1.2/Y7LpvkEwBGQY...  2023-04-12T17:05:02Z   \n4  https://s.yimg.com/uu/api/res/1.2/QeXnzzAU2GBm...  2023-04-14T15:14:54Z   \n\n                                             content  \n0  On Wednesday, a group of contractors at YouTub...  \n1  If you spent almost any time on the internet t...  \n2  After a day-long absence, Lofi Girl has return...  \n3  The Library of Congress\\r\\n has announced the ...  \n4  Spotify has some disappointing news for Heardl...  ",
      "text/html": "<div>\n<style scoped>\n    .dataframe tbody tr th:only-of-type {\n        vertical-align: middle;\n    }\n\n    .dataframe tbody tr th {\n        vertical-align: top;\n    }\n\n    .dataframe thead th {\n        text-align: right;\n    }\n</style>\n<table border=\"1\" class=\"dataframe\">\n  <thead>\n    <tr style=\"text-align: right;\">\n      <th></th>\n      <th>source</th>\n      <th>author</th>\n      <th>title</th>\n      <th>description</th>\n      <th>url</th>\n      <th>urlToImage</th>\n      <th>publishedAt</th>\n      <th>content</th>\n    </tr>\n  </thead>\n  <tbody>\n    <tr>\n      <th>0</th>\n      <td>{'id': 'engadget', 'name': 'Engadget'}</td>\n      <td>Igor Bonifacic</td>\n      <td>YouTube Music contractors vote overwhelmingly ...</td>\n      <td>On Wednesday, a group of contractors at YouTub...</td>\n      <td>https://www.engadget.com/youtube-music-contrac...</td>\n      <td>https://s.yimg.com/uu/api/res/1.2/sBsdBENx0Xc8...</td>\n      <td>2023-04-26T21:38:44Z</td>\n      <td>On Wednesday, a group of contractors at YouTub...</td>\n    </tr>\n    <tr>\n      <th>1</th>\n      <td>{'id': 'engadget', 'name': 'Engadget'}</td>\n      <td>Igor Bonifacic</td>\n      <td>Copyright in spotlight after streaming platfor...</td>\n      <td>If you spent almost any time on the internet t...</td>\n      <td>https://www.engadget.com/copyright-in-spotligh...</td>\n      <td>https://s.yimg.com/uu/api/res/1.2/roneRM7jZ5Gc...</td>\n      <td>2023-04-19T18:35:13Z</td>\n      <td>If you spent almost any time on the internet t...</td>\n    </tr>\n    <tr>\n      <th>2</th>\n      <td>{'id': 'engadget', 'name': 'Engadget'}</td>\n      <td>Igor Bonifacic</td>\n      <td>Lofi Girl is back and she made a synthwave friend</td>\n      <td>After a day-long absence, Lofi Girl has return...</td>\n      <td>https://www.engadget.com/lofi-girl-is-back-and...</td>\n      <td>https://s.yimg.com/uu/api/res/1.2/SDw4A9suayQJ...</td>\n      <td>2023-04-11T18:29:28Z</td>\n      <td>After a day-long absence, Lofi Girl has return...</td>\n    </tr>\n    <tr>\n      <th>3</th>\n      <td>{'id': 'engadget', 'name': 'Engadget'}</td>\n      <td>Kris Holt</td>\n      <td>The Mario theme joins your old tweets in the L...</td>\n      <td>The Library of Congress\\r\\n has announced the ...</td>\n      <td>https://www.engadget.com/the-mario-theme-joins...</td>\n      <td>https://s.yimg.com/uu/api/res/1.2/Y7LpvkEwBGQY...</td>\n      <td>2023-04-12T17:05:02Z</td>\n      <td>The Library of Congress\\r\\n has announced the ...</td>\n    </tr>\n    <tr>\n      <th>4</th>\n      <td>{'id': 'engadget', 'name': 'Engadget'}</td>\n      <td>Kris Holt</td>\n      <td>Spotify will shut down 'Heardle' on May 5th</td>\n      <td>Spotify has some disappointing news for Heardl...</td>\n      <td>https://www.engadget.com/spotify-will-shut-dow...</td>\n      <td>https://s.yimg.com/uu/api/res/1.2/QeXnzzAU2GBm...</td>\n      <td>2023-04-14T15:14:54Z</td>\n      <td>Spotify has some disappointing news for Heardl...</td>\n    </tr>\n  </tbody>\n</table>\n</div>"
     },
     "execution_count": 26,
     "metadata": {},
     "output_type": "execute_result"
    }
   ],
   "source": [
    "# convert to dataframe\n",
    "df = pd.DataFrame(articles)\n",
    "df.head()"
   ],
   "metadata": {
    "collapsed": false,
    "ExecuteTime": {
     "start_time": "2023-05-10T01:06:35.538705Z",
     "end_time": "2023-05-10T01:06:35.560238Z"
    }
   }
  },
  {
   "cell_type": "code",
   "execution_count": 27,
   "outputs": [
    {
     "data": {
      "text/plain": "     source          author  \\\n0  Engadget  Igor Bonifacic   \n1  Engadget  Igor Bonifacic   \n2  Engadget  Igor Bonifacic   \n3  Engadget       Kris Holt   \n4  Engadget       Kris Holt   \n\n                                               title  \\\n0  YouTube Music contractors vote overwhelmingly ...   \n1  Copyright in spotlight after streaming platfor...   \n2  Lofi Girl is back and she made a synthwave friend   \n3  The Mario theme joins your old tweets in the L...   \n4        Spotify will shut down 'Heardle' on May 5th   \n\n                                         description  \\\n0  On Wednesday, a group of contractors at YouTub...   \n1  If you spent almost any time on the internet t...   \n2  After a day-long absence, Lofi Girl has return...   \n3  The Library of Congress\\r\\n has announced the ...   \n4  Spotify has some disappointing news for Heardl...   \n\n                                                 url  \\\n0  https://www.engadget.com/youtube-music-contrac...   \n1  https://www.engadget.com/copyright-in-spotligh...   \n2  https://www.engadget.com/lofi-girl-is-back-and...   \n3  https://www.engadget.com/the-mario-theme-joins...   \n4  https://www.engadget.com/spotify-will-shut-dow...   \n\n                                          urlToImage           publishedAt  \\\n0  https://s.yimg.com/uu/api/res/1.2/sBsdBENx0Xc8...  2023-04-26T21:38:44Z   \n1  https://s.yimg.com/uu/api/res/1.2/roneRM7jZ5Gc...  2023-04-19T18:35:13Z   \n2  https://s.yimg.com/uu/api/res/1.2/SDw4A9suayQJ...  2023-04-11T18:29:28Z   \n3  https://s.yimg.com/uu/api/res/1.2/Y7LpvkEwBGQY...  2023-04-12T17:05:02Z   \n4  https://s.yimg.com/uu/api/res/1.2/QeXnzzAU2GBm...  2023-04-14T15:14:54Z   \n\n                                             content  \n0  On Wednesday, a group of contractors at YouTub...  \n1  If you spent almost any time on the internet t...  \n2  After a day-long absence, Lofi Girl has return...  \n3  The Library of Congress\\r\\n has announced the ...  \n4  Spotify has some disappointing news for Heardl...  ",
      "text/html": "<div>\n<style scoped>\n    .dataframe tbody tr th:only-of-type {\n        vertical-align: middle;\n    }\n\n    .dataframe tbody tr th {\n        vertical-align: top;\n    }\n\n    .dataframe thead th {\n        text-align: right;\n    }\n</style>\n<table border=\"1\" class=\"dataframe\">\n  <thead>\n    <tr style=\"text-align: right;\">\n      <th></th>\n      <th>source</th>\n      <th>author</th>\n      <th>title</th>\n      <th>description</th>\n      <th>url</th>\n      <th>urlToImage</th>\n      <th>publishedAt</th>\n      <th>content</th>\n    </tr>\n  </thead>\n  <tbody>\n    <tr>\n      <th>0</th>\n      <td>Engadget</td>\n      <td>Igor Bonifacic</td>\n      <td>YouTube Music contractors vote overwhelmingly ...</td>\n      <td>On Wednesday, a group of contractors at YouTub...</td>\n      <td>https://www.engadget.com/youtube-music-contrac...</td>\n      <td>https://s.yimg.com/uu/api/res/1.2/sBsdBENx0Xc8...</td>\n      <td>2023-04-26T21:38:44Z</td>\n      <td>On Wednesday, a group of contractors at YouTub...</td>\n    </tr>\n    <tr>\n      <th>1</th>\n      <td>Engadget</td>\n      <td>Igor Bonifacic</td>\n      <td>Copyright in spotlight after streaming platfor...</td>\n      <td>If you spent almost any time on the internet t...</td>\n      <td>https://www.engadget.com/copyright-in-spotligh...</td>\n      <td>https://s.yimg.com/uu/api/res/1.2/roneRM7jZ5Gc...</td>\n      <td>2023-04-19T18:35:13Z</td>\n      <td>If you spent almost any time on the internet t...</td>\n    </tr>\n    <tr>\n      <th>2</th>\n      <td>Engadget</td>\n      <td>Igor Bonifacic</td>\n      <td>Lofi Girl is back and she made a synthwave friend</td>\n      <td>After a day-long absence, Lofi Girl has return...</td>\n      <td>https://www.engadget.com/lofi-girl-is-back-and...</td>\n      <td>https://s.yimg.com/uu/api/res/1.2/SDw4A9suayQJ...</td>\n      <td>2023-04-11T18:29:28Z</td>\n      <td>After a day-long absence, Lofi Girl has return...</td>\n    </tr>\n    <tr>\n      <th>3</th>\n      <td>Engadget</td>\n      <td>Kris Holt</td>\n      <td>The Mario theme joins your old tweets in the L...</td>\n      <td>The Library of Congress\\r\\n has announced the ...</td>\n      <td>https://www.engadget.com/the-mario-theme-joins...</td>\n      <td>https://s.yimg.com/uu/api/res/1.2/Y7LpvkEwBGQY...</td>\n      <td>2023-04-12T17:05:02Z</td>\n      <td>The Library of Congress\\r\\n has announced the ...</td>\n    </tr>\n    <tr>\n      <th>4</th>\n      <td>Engadget</td>\n      <td>Kris Holt</td>\n      <td>Spotify will shut down 'Heardle' on May 5th</td>\n      <td>Spotify has some disappointing news for Heardl...</td>\n      <td>https://www.engadget.com/spotify-will-shut-dow...</td>\n      <td>https://s.yimg.com/uu/api/res/1.2/QeXnzzAU2GBm...</td>\n      <td>2023-04-14T15:14:54Z</td>\n      <td>Spotify has some disappointing news for Heardl...</td>\n    </tr>\n  </tbody>\n</table>\n</div>"
     },
     "execution_count": 27,
     "metadata": {},
     "output_type": "execute_result"
    }
   ],
   "source": [
    "# convert source column to just the name of the source\n",
    "if 'source' in df.columns:\n",
    "    df['source'] = df['source'].apply(lambda x: x['name'])\n",
    "df.head()"
   ],
   "metadata": {
    "collapsed": false,
    "ExecuteTime": {
     "start_time": "2023-05-10T01:06:41.369345Z",
     "end_time": "2023-05-10T01:06:41.385315Z"
    }
   }
  },
  {
   "cell_type": "code",
   "execution_count": 28,
   "outputs": [
    {
     "data": {
      "text/plain": "     source          author  \\\n0  Engadget  Igor Bonifacic   \n1  Engadget  Igor Bonifacic   \n2  Engadget  Igor Bonifacic   \n3  Engadget       Kris Holt   \n4  Engadget       Kris Holt   \n\n                                               title  \\\n0  YouTube Music contractors vote overwhelmingly ...   \n1  Copyright in spotlight after streaming platfor...   \n2  Lofi Girl is back and she made a synthwave friend   \n3  The Mario theme joins your old tweets in the L...   \n4          Spotify will shut down Heardle on May 5th   \n\n                                         description  \\\n0  On Wednesday, a group of contractors at YouTub...   \n1  If you spent almost any time on the internet t...   \n2  After a day-long absence, Lofi Girl has return...   \n3  The Library of Congress\\r\\n has announced the ...   \n4  Spotify has some disappointing news for Heardl...   \n\n                                                 url  \\\n0  https://www.engadget.com/youtube-music-contrac...   \n1  https://www.engadget.com/copyright-in-spotligh...   \n2  https://www.engadget.com/lofi-girl-is-back-and...   \n3  https://www.engadget.com/the-mario-theme-joins...   \n4  https://www.engadget.com/spotify-will-shut-dow...   \n\n                                          urlToImage           publishedAt  \\\n0  https://s.yimg.com/uu/api/res/1.2/sBsdBENx0Xc8...  2023-04-26T21:38:44Z   \n1  https://s.yimg.com/uu/api/res/1.2/roneRM7jZ5Gc...  2023-04-19T18:35:13Z   \n2  https://s.yimg.com/uu/api/res/1.2/SDw4A9suayQJ...  2023-04-11T18:29:28Z   \n3  https://s.yimg.com/uu/api/res/1.2/Y7LpvkEwBGQY...  2023-04-12T17:05:02Z   \n4  https://s.yimg.com/uu/api/res/1.2/QeXnzzAU2GBm...  2023-04-14T15:14:54Z   \n\n                                             content  \n0  On Wednesday, a group of contractors at YouTub...  \n1  If you spent almost any time on the internet t...  \n2  After a day-long absence, Lofi Girl has return...  \n3  The Library of Congress\\r\\n has announced the ...  \n4  Spotify has some disappointing news for Heardl...  ",
      "text/html": "<div>\n<style scoped>\n    .dataframe tbody tr th:only-of-type {\n        vertical-align: middle;\n    }\n\n    .dataframe tbody tr th {\n        vertical-align: top;\n    }\n\n    .dataframe thead th {\n        text-align: right;\n    }\n</style>\n<table border=\"1\" class=\"dataframe\">\n  <thead>\n    <tr style=\"text-align: right;\">\n      <th></th>\n      <th>source</th>\n      <th>author</th>\n      <th>title</th>\n      <th>description</th>\n      <th>url</th>\n      <th>urlToImage</th>\n      <th>publishedAt</th>\n      <th>content</th>\n    </tr>\n  </thead>\n  <tbody>\n    <tr>\n      <th>0</th>\n      <td>Engadget</td>\n      <td>Igor Bonifacic</td>\n      <td>YouTube Music contractors vote overwhelmingly ...</td>\n      <td>On Wednesday, a group of contractors at YouTub...</td>\n      <td>https://www.engadget.com/youtube-music-contrac...</td>\n      <td>https://s.yimg.com/uu/api/res/1.2/sBsdBENx0Xc8...</td>\n      <td>2023-04-26T21:38:44Z</td>\n      <td>On Wednesday, a group of contractors at YouTub...</td>\n    </tr>\n    <tr>\n      <th>1</th>\n      <td>Engadget</td>\n      <td>Igor Bonifacic</td>\n      <td>Copyright in spotlight after streaming platfor...</td>\n      <td>If you spent almost any time on the internet t...</td>\n      <td>https://www.engadget.com/copyright-in-spotligh...</td>\n      <td>https://s.yimg.com/uu/api/res/1.2/roneRM7jZ5Gc...</td>\n      <td>2023-04-19T18:35:13Z</td>\n      <td>If you spent almost any time on the internet t...</td>\n    </tr>\n    <tr>\n      <th>2</th>\n      <td>Engadget</td>\n      <td>Igor Bonifacic</td>\n      <td>Lofi Girl is back and she made a synthwave friend</td>\n      <td>After a day-long absence, Lofi Girl has return...</td>\n      <td>https://www.engadget.com/lofi-girl-is-back-and...</td>\n      <td>https://s.yimg.com/uu/api/res/1.2/SDw4A9suayQJ...</td>\n      <td>2023-04-11T18:29:28Z</td>\n      <td>After a day-long absence, Lofi Girl has return...</td>\n    </tr>\n    <tr>\n      <th>3</th>\n      <td>Engadget</td>\n      <td>Kris Holt</td>\n      <td>The Mario theme joins your old tweets in the L...</td>\n      <td>The Library of Congress\\r\\n has announced the ...</td>\n      <td>https://www.engadget.com/the-mario-theme-joins...</td>\n      <td>https://s.yimg.com/uu/api/res/1.2/Y7LpvkEwBGQY...</td>\n      <td>2023-04-12T17:05:02Z</td>\n      <td>The Library of Congress\\r\\n has announced the ...</td>\n    </tr>\n    <tr>\n      <th>4</th>\n      <td>Engadget</td>\n      <td>Kris Holt</td>\n      <td>Spotify will shut down Heardle on May 5th</td>\n      <td>Spotify has some disappointing news for Heardl...</td>\n      <td>https://www.engadget.com/spotify-will-shut-dow...</td>\n      <td>https://s.yimg.com/uu/api/res/1.2/QeXnzzAU2GBm...</td>\n      <td>2023-04-14T15:14:54Z</td>\n      <td>Spotify has some disappointing news for Heardl...</td>\n    </tr>\n  </tbody>\n</table>\n</div>"
     },
     "execution_count": 28,
     "metadata": {},
     "output_type": "execute_result"
    }
   ],
   "source": [
    "# clean the title column\n",
    "import re\n",
    "\n",
    "def clean(title):\n",
    "    return re.sub(r'[^a-zA-Z0-9 ]', '', title)\n",
    "\n",
    "df['title'] = df['title'].apply(clean)\n",
    "df.head()"
   ],
   "metadata": {
    "collapsed": false,
    "ExecuteTime": {
     "start_time": "2023-05-10T01:10:13.025123Z",
     "end_time": "2023-05-10T01:10:13.071084Z"
    }
   }
  },
  {
   "cell_type": "code",
   "execution_count": 32,
   "outputs": [],
   "source": [
    "from sklearn.feature_extraction.text import TfidfVectorizer\n",
    "\n",
    "# create tfidf vectorized matrix\n",
    "vectMatrix = TfidfVectorizer(ngram_range=(1, 2))\n",
    "tfidf = vectMatrix.fit_transform(df['title'])"
   ],
   "metadata": {
    "collapsed": false,
    "ExecuteTime": {
     "start_time": "2023-05-10T01:27:47.123372Z",
     "end_time": "2023-05-10T01:27:47.164892Z"
    }
   }
  },
  {
   "cell_type": "code",
   "execution_count": 41,
   "outputs": [
    {
     "data": {
      "text/plain": "array([0.14075371, 0.        , 0.        , 0.        , 0.        ,\n       0.        , 0.        , 0.        , 0.        , 0.        ,\n       0.        , 0.        , 0.        , 0.        , 0.        ,\n       0.        , 0.        , 0.        , 0.        , 0.        ,\n       0.        , 0.        , 0.        , 0.        , 0.        ,\n       0.        , 0.16090068, 0.14435768, 0.        , 0.        ,\n       0.        , 0.        , 0.        , 0.        , 0.        ,\n       0.        , 0.        , 0.11078928, 0.        , 0.        ,\n       0.        , 0.        , 0.        , 0.        , 0.        ,\n       0.        , 0.12849462, 0.        , 0.        , 0.        ,\n       0.        , 0.        , 0.        , 0.        , 0.        ,\n       0.        , 0.        , 0.14357152, 0.        , 0.        ,\n       0.        , 0.        , 0.        , 0.        , 0.        ,\n       0.        , 0.        , 0.        , 0.        , 0.        ,\n       0.        , 0.        , 0.        , 0.        , 0.12812798,\n       0.        , 0.        , 0.        , 0.        , 0.        ,\n       0.25366784, 0.12895162, 0.12720706, 0.12794324, 0.        ,\n       0.14921371, 0.        , 0.11787925, 0.12324558, 0.12144948,\n       0.11725963, 0.        , 0.        , 0.        , 0.        ,\n       0.        , 0.        , 0.        , 0.        , 0.        ])"
     },
     "execution_count": 41,
     "metadata": {},
     "output_type": "execute_result"
    }
   ],
   "source": [
    "from sklearn.metrics.pairwise import cosine_similarity\n",
    "import numpy as np\n",
    "\n",
    "def search(title):\n",
    "    title = clean(title)\n",
    "    title_vect = vectMatrix.transform([title])\n",
    "    similarity = cosine_similarity(title_vect, tfidf).flatten()\n",
    "    top5 = np.argsort(similarity)[-5:][::-1]\n",
    "    results = df.iloc[top5]\n",
    "    return results"
   ],
   "metadata": {
    "collapsed": false,
    "ExecuteTime": {
     "start_time": "2023-05-10T01:41:25.942989Z",
     "end_time": "2023-05-10T01:41:25.984644Z"
    }
   }
  },
  {
   "cell_type": "code",
   "execution_count": 44,
   "outputs": [
    {
     "data": {
      "text/plain": "Text(value='Youtube music', description='Article:')",
      "application/vnd.jupyter.widget-view+json": {
       "version_major": 2,
       "version_minor": 0,
       "model_id": "824574896cf042c4ab711570b10a5d3d"
      }
     },
     "metadata": {},
     "output_type": "display_data"
    },
    {
     "data": {
      "text/plain": "Output()",
      "application/vnd.jupyter.widget-view+json": {
       "version_major": 2,
       "version_minor": 0,
       "model_id": "5db4d52f8aa64de086eacdef4ab4845c"
      }
     },
     "metadata": {},
     "output_type": "display_data"
    }
   ],
   "source": [
    "# test it out and display results\n",
    "import ipywidgets as widgets\n",
    "from IPython.display import display\n",
    "\n",
    "article_input = widgets.Text(\n",
    "    value='Youtube music',\n",
    "    description='Article:',\n",
    "    disabled=False\n",
    ")\n",
    "\n",
    "article_list = widgets.Output()\n",
    "\n",
    "def on_type(change):\n",
    "    article_list.clear_output()\n",
    "    with article_list:\n",
    "        title = change['new']\n",
    "        if len(title) > 5:\n",
    "            display(search(title))\n",
    "\n",
    "article_input.observe(on_type, names='value')\n",
    "\n",
    "display(article_input, article_list)"
   ],
   "metadata": {
    "collapsed": false,
    "ExecuteTime": {
     "start_time": "2023-05-10T01:53:41.612790Z",
     "end_time": "2023-05-10T01:53:41.660864Z"
    }
   }
  },
  {
   "cell_type": "code",
   "execution_count": null,
   "outputs": [],
   "source": [],
   "metadata": {
    "collapsed": false
   }
  }
 ]
}
